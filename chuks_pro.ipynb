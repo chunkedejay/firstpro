{
  "nbformat": 4,
  "nbformat_minor": 0,
  "metadata": {
    "colab": {
      "name": "chuks pro",
      "provenance": [],
      "collapsed_sections": [],
      "authorship_tag": "ABX9TyOxNqg1kkoKiqJ2T5gGQSRk",
      "include_colab_link": true
    },
    "kernelspec": {
      "name": "python3",
      "display_name": "Python 3"
    },
    "language_info": {
      "name": "python"
    }
  },
  "cells": [
    {
      "cell_type": "markdown",
      "metadata": {
        "id": "view-in-github",
        "colab_type": "text"
      },
      "source": [
        "<a href=\"https://colab.research.google.com/github/chunkedejay/firstpro/blob/master/chuks_pro.ipynb\" target=\"_parent\"><img src=\"https://colab.research.google.com/assets/colab-badge.svg\" alt=\"Open In Colab\"/></a>"
      ]
    },
    {
      "cell_type": "code",
      "execution_count": null,
      "metadata": {
        "colab": {
          "base_uri": "https://localhost:8080/"
        },
        "id": "VN7Fw0oD1pu3",
        "outputId": "b6855cfb-36aa-45b7-9bfc-f3e91d0f182e"
      },
      "outputs": [
        {
          "output_type": "stream",
          "name": "stdout",
          "text": [
            "Enter your marks:30\n",
            "Failed, Better Luck Next Time!\n"
          ]
        }
      ],
      "source": [
        " marks=int(input('Enter your marks:'))\n",
        "if marks>=40:\n",
        "  print('Congrats, you have passed!')\n",
        "else:\n",
        "  print('Failed, Better Luck Next Time!')\n",
        "  \n",
        "\n",
        "\n",
        "\n"
      ]
    },
    {
      "cell_type": "code",
      "source": [
        "marks=int(input('Enter your marks:'))\n",
        "if marks>=70:\n",
        "  print('Grade A')\n",
        "elif marks>=60 and marks<=69:\n",
        "  print('Grade B')\n",
        "elif marks>=40 and marks<=59:\n",
        "  print('Grade C')\n",
        "else:\n",
        "  print('Better luck, Next time!')  "
      ],
      "metadata": {
        "colab": {
          "base_uri": "https://localhost:8080/"
        },
        "id": "j03mmGQDCUco",
        "outputId": "33a31285-1f78-4110-ab83-5620f21b0a1f"
      },
      "execution_count": null,
      "outputs": [
        {
          "output_type": "stream",
          "name": "stdout",
          "text": [
            "Enter your marks:50\n",
            "Grade C\n"
          ]
        }
      ]
    },
    {
      "cell_type": "code",
      "source": [
        "marks=int(input('Enter your marks:'))\n",
        "if marks>=90:\n",
        "  print ('Grade A')\n",
        "elif marks>=70 and marks<=89:\n",
        "  print ('Grade B') \n",
        "elif marks>=60 and marks<=69:\n",
        "  print ('Grade C') \n",
        "elif marks>=45 and marks<=59:\n",
        "  print ('Grade D') \n",
        "else: \n",
        "  print ('Grade F') \n",
        "\n"
      ],
      "metadata": {
        "colab": {
          "base_uri": "https://localhost:8080/"
        },
        "id": "6r7-gHO-FSuV",
        "outputId": "1181e68d-cb69-4dd2-e6eb-4d37496225fd"
      },
      "execution_count": null,
      "outputs": [
        {
          "output_type": "stream",
          "name": "stdout",
          "text": [
            "Enter your marks:50\n",
            "Grade D\n"
          ]
        }
      ]
    },
    {
      "cell_type": "code",
      "source": [
        "weight=int(input('Enter Weight:'))\n",
        "unit=input('kgs or (l)bs:')\n",
        "converted= weight/0.45\n",
        "if unit.upper()<='20':\n",
        "  print ('weight in (l)bs:', str(converted))\n",
        "else:\n",
        "  converted= weight*0.45\n",
        "  print ('weight in Kgs:', str(converted))\n",
        "\n",
        "\n"
      ],
      "metadata": {
        "colab": {
          "base_uri": "https://localhost:8080/"
        },
        "id": "r3P2brfx_uYf",
        "outputId": "f3a45ad6-1e28-4ba6-bed7-4c32023759c3"
      },
      "execution_count": 72,
      "outputs": [
        {
          "output_type": "stream",
          "name": "stdout",
          "text": [
            "Enter Weight:21\n",
            "kgs or (l)bs:21\n",
            "weight in Kgs: 9.450000000000001\n"
          ]
        }
      ]
    },
    {
      "cell_type": "code",
      "source": [
        "bYear=int(input('Enter Birth year:'))\n",
        "age=2022-(bYear)\n",
        "print (age,'years old.')\n",
        "\n"
      ],
      "metadata": {
        "colab": {
          "base_uri": "https://localhost:8080/"
        },
        "id": "Y6DL-fzTGlpC",
        "outputId": "281fa654-cfe5-467a-d212-867328f36829"
      },
      "execution_count": 52,
      "outputs": [
        {
          "output_type": "stream",
          "name": "stdout",
          "text": [
            "Enter Birth year:1945\n",
            "77 years old.\n"
          ]
        }
      ]
    },
    {
      "cell_type": "code",
      "source": [
        "n=int(input('Enter your minimum number:'))\n",
        "while n<=100:\n",
        "  print(n)\n",
        "  n=n+2"
      ],
      "metadata": {
        "colab": {
          "base_uri": "https://localhost:8080/"
        },
        "id": "tpZIe6IynXzY",
        "outputId": "26eedfc7-182e-4fcf-e510-7ee7b946e5c3"
      },
      "execution_count": null,
      "outputs": [
        {
          "output_type": "stream",
          "name": "stdout",
          "text": [
            "Enter your minimum number:1\n",
            "1\n",
            "3\n",
            "5\n",
            "7\n",
            "9\n",
            "11\n",
            "13\n",
            "15\n",
            "17\n",
            "19\n",
            "21\n",
            "23\n",
            "25\n",
            "27\n",
            "29\n",
            "31\n",
            "33\n",
            "35\n",
            "37\n",
            "39\n",
            "41\n",
            "43\n",
            "45\n",
            "47\n",
            "49\n",
            "51\n",
            "53\n",
            "55\n",
            "57\n",
            "59\n",
            "61\n",
            "63\n",
            "65\n",
            "67\n",
            "69\n",
            "71\n",
            "73\n",
            "75\n",
            "77\n",
            "79\n",
            "81\n",
            "83\n",
            "85\n",
            "87\n",
            "89\n",
            "91\n",
            "93\n",
            "95\n",
            "97\n",
            "99\n"
          ]
        }
      ]
    },
    {
      "cell_type": "code",
      "source": [
        "n=int(input('Enter minimum number:'))\n",
        "for n in range (2,100,2):\n",
        "  print(n)\n",
        "  \n"
      ],
      "metadata": {
        "colab": {
          "base_uri": "https://localhost:8080/"
        },
        "id": "-m_3XOZOo8hC",
        "outputId": "580e73de-0618-4c5c-d0fb-bafa6266bd36"
      },
      "execution_count": null,
      "outputs": [
        {
          "output_type": "stream",
          "name": "stdout",
          "text": [
            "Enter minimum number:1\n",
            "2\n",
            "4\n",
            "6\n",
            "8\n",
            "10\n",
            "12\n",
            "14\n",
            "16\n",
            "18\n",
            "20\n",
            "22\n",
            "24\n",
            "26\n",
            "28\n",
            "30\n",
            "32\n",
            "34\n",
            "36\n",
            "38\n",
            "40\n",
            "42\n",
            "44\n",
            "46\n",
            "48\n",
            "50\n",
            "52\n",
            "54\n",
            "56\n",
            "58\n",
            "60\n",
            "62\n",
            "64\n",
            "66\n",
            "68\n",
            "70\n",
            "72\n",
            "74\n",
            "76\n",
            "78\n",
            "80\n",
            "82\n",
            "84\n",
            "86\n",
            "88\n",
            "90\n",
            "92\n",
            "94\n",
            "96\n",
            "98\n"
          ]
        }
      ]
    },
    {
      "cell_type": "code",
      "source": [
        "num=-2\n",
        "if num>=0:\n",
        " print ('positive or zero')\n",
        "else:\n",
        "   print('Negative Number')\n"
      ],
      "metadata": {
        "colab": {
          "base_uri": "https://localhost:8080/"
        },
        "id": "iCeeZ97p8dtE",
        "outputId": "a057184f-043f-4112-f497-527227ee63ff"
      },
      "execution_count": null,
      "outputs": [
        {
          "output_type": "stream",
          "name": "stdout",
          "text": [
            "Negative Number\n"
          ]
        }
      ]
    },
    {
      "cell_type": "code",
      "source": [
        "n=6\n",
        "\n",
        "while n<6:\n",
        "  print('hello world')\n",
        "\n",
        "else:\n",
        "  print('outside loop')\n",
        "  \n",
        "  \n",
        "  "
      ],
      "metadata": {
        "colab": {
          "base_uri": "https://localhost:8080/"
        },
        "id": "4grZWruoNX-5",
        "outputId": "80aefea3-2ac1-4e29-c071-a2176bcc88cd"
      },
      "execution_count": null,
      "outputs": [
        {
          "output_type": "stream",
          "name": "stdout",
          "text": [
            "outside loop\n"
          ]
        }
      ]
    },
    {
      "cell_type": "code",
      "source": [
        "name=('Chuks')\n",
        "marks=(60)\n",
        "print(name, marks)"
      ],
      "metadata": {
        "colab": {
          "base_uri": "https://localhost:8080/"
        },
        "id": "DSjaWuGbnpQN",
        "outputId": "c61887b7-5cc2-44ed-9bd7-2801a53cc610"
      },
      "execution_count": null,
      "outputs": [
        {
          "output_type": "stream",
          "name": "stdout",
          "text": [
            "Chuks 60\n"
          ]
        }
      ]
    },
    {
      "cell_type": "code",
      "source": [
        "First_name=input('Enter First Name:')\n",
        "Last_name=input('Enter Last Name:')\n",
        "print(First_name,Last_name) "
      ],
      "metadata": {
        "colab": {
          "base_uri": "https://localhost:8080/"
        },
        "id": "2rdEwmWXs7TW",
        "outputId": "52c78e56-bd08-49c3-85f5-f3dec3e7c625"
      },
      "execution_count": 22,
      "outputs": [
        {
          "output_type": "stream",
          "name": "stdout",
          "text": [
            "Enter First Name:chuks\n",
            "Enter Last Name:James\n",
            "chuks James\n"
          ]
        }
      ]
    },
    {
      "cell_type": "code",
      "source": [
        "num= input('Enter number:')\n",
        "print(num)\n",
        "name=input('Enter name:')\n",
        "print(name)\n",
        "print('type of number',type(num))\n",
        "print('type of name',type(name))"
      ],
      "metadata": {
        "colab": {
          "base_uri": "https://localhost:8080/"
        },
        "id": "aFNvJ231vmEf",
        "outputId": "972ba24c-7a9b-40d7-b7c2-799b7d7ad37a"
      },
      "execution_count": null,
      "outputs": [
        {
          "output_type": "stream",
          "name": "stdout",
          "text": [
            "Enter number:2609\n",
            "2609\n",
            "Enter name:chuks\n",
            "chuks\n",
            "type of number <class 'str'>\n",
            "type of name <class 'str'>\n"
          ]
        }
      ]
    },
    {
      "cell_type": "code",
      "source": [
        "Myname=(input('Enter your name:'))\n",
        "Mymark=int(input('Enter your marks:'))\n",
        "print('my name is',Myname, 'and i got', Mymark)"
      ],
      "metadata": {
        "colab": {
          "base_uri": "https://localhost:8080/"
        },
        "id": "fPM-bjCjyea-",
        "outputId": "8877f435-d498-48d5-ac67-153a8f156e7a"
      },
      "execution_count": null,
      "outputs": [
        {
          "output_type": "stream",
          "name": "stdout",
          "text": [
            "Enter your name:chuks\n",
            "Enter your marks:260\n",
            "my name is chuks and i got 260\n"
          ]
        }
      ]
    },
    {
      "cell_type": "code",
      "source": [
        ""
      ],
      "metadata": {
        "id": "6S9Z69bT5R4Q"
      },
      "execution_count": null,
      "outputs": []
    }
  ]
}